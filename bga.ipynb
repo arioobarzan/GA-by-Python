{
 "cells": [
  {
   "cell_type": "code",
   "execution_count": 24,
   "metadata": {},
   "outputs": [
    {
     "ename": "ModuleNotFoundError",
     "evalue": "No module named 'numpy'",
     "output_type": "error",
     "traceback": [
      "\u001b[1;31m---------------------------------------------------------------------------\u001b[0m",
      "\u001b[1;31mModuleNotFoundError\u001b[0m                       Traceback (most recent call last)",
      "\u001b[1;32mc:\\Users\\Platinum\\Documents\\GitHub\\GA-by-Python\\bga.ipynb Cell 1\u001b[0m line \u001b[0;36m1\n\u001b[1;32m----> <a href='vscode-notebook-cell:/c%3A/Users/Platinum/Documents/GitHub/GA-by-Python/bga.ipynb#W2sZmlsZQ%3D%3D?line=0'>1</a>\u001b[0m \u001b[39mimport\u001b[39;00m \u001b[39mnumpy\u001b[39;00m \u001b[39mas\u001b[39;00m \u001b[39mnp\u001b[39;00m\n",
      "\u001b[1;31mModuleNotFoundError\u001b[0m: No module named 'numpy'"
     ]
    }
   ],
   "source": [
    "import numpy as np"
   ]
  },
  {
   "cell_type": "code",
   "execution_count": 25,
   "metadata": {},
   "outputs": [
    {
     "name": "stdout",
     "output_type": "stream",
     "text": [
      "0\n"
     ]
    },
    {
     "ename": "IndexError",
     "evalue": "list assignment index out of range",
     "output_type": "error",
     "traceback": [
      "\u001b[1;31m---------------------------------------------------------------------------\u001b[0m",
      "\u001b[1;31mIndexError\u001b[0m                                Traceback (most recent call last)",
      "\u001b[1;32mc:\\Users\\Platinum\\Documents\\GitHub\\GA-by-Python\\bga.ipynb Cell 2\u001b[0m line \u001b[0;36m7\n\u001b[0;32m      <a href='vscode-notebook-cell:/c%3A/Users/Platinum/Documents/GitHub/GA-by-Python/bga.ipynb#W0sZmlsZQ%3D%3D?line=4'>5</a>\u001b[0m \u001b[39mprint\u001b[39m(i)\n\u001b[0;32m      <a href='vscode-notebook-cell:/c%3A/Users/Platinum/Documents/GitHub/GA-by-Python/bga.ipynb#W0sZmlsZQ%3D%3D?line=5'>6</a>\u001b[0m j \u001b[39m=\u001b[39m i \u001b[39m*\u001b[39m \u001b[39m3\u001b[39m\n\u001b[1;32m----> <a href='vscode-notebook-cell:/c%3A/Users/Platinum/Documents/GitHub/GA-by-Python/bga.ipynb#W0sZmlsZQ%3D%3D?line=6'>7</a>\u001b[0m a[i][\u001b[39m0\u001b[39;49m] \u001b[39m=\u001b[39m f[j]\n\u001b[0;32m      <a href='vscode-notebook-cell:/c%3A/Users/Platinum/Documents/GitHub/GA-by-Python/bga.ipynb#W0sZmlsZQ%3D%3D?line=7'>8</a>\u001b[0m a[i][\u001b[39m1\u001b[39m] \u001b[39m=\u001b[39m f[j\u001b[39m+\u001b[39m\u001b[39m1\u001b[39m]\n\u001b[0;32m      <a href='vscode-notebook-cell:/c%3A/Users/Platinum/Documents/GitHub/GA-by-Python/bga.ipynb#W0sZmlsZQ%3D%3D?line=8'>9</a>\u001b[0m a[i][\u001b[39m2\u001b[39m] \u001b[39m=\u001b[39m f[j\u001b[39m+\u001b[39m\u001b[39m2\u001b[39m]\n",
      "\u001b[1;31mIndexError\u001b[0m: list assignment index out of range"
     ]
    }
   ],
   "source": [
    "f = open('burma14.tsp')\n",
    "f = f.read()\n",
    "a = [[] for i in range(13)]\n",
    "for i in range(13):\n",
    "    print(i)\n",
    "    j = i * 3\n",
    "    a[i][0] = f[j]\n",
    "    a[i][1] = f[j+1]\n",
    "    a[i][2] = f[j+2]"
   ]
  }
 ],
 "metadata": {
  "kernelspec": {
   "display_name": "GA",
   "language": "python",
   "name": "python3"
  },
  "language_info": {
   "codemirror_mode": {
    "name": "ipython",
    "version": 3
   },
   "file_extension": ".py",
   "mimetype": "text/x-python",
   "name": "python",
   "nbconvert_exporter": "python",
   "pygments_lexer": "ipython3",
   "version": "3.12.0"
  }
 },
 "nbformat": 4,
 "nbformat_minor": 2
}
